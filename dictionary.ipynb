{
 "cells": [
  {
   "cell_type": "code",
   "execution_count": 6,
   "metadata": {},
   "outputs": [
    {
     "name": "stdout",
     "output_type": "stream",
     "text": [
      "{'id': 'x91290', 'type': 'Mobile phone', 'price': 12858, 'quantity': 1000, 'date': '12-12-23', 'is_available': 0, 'is_delivered': 1, 'is_new': 0}\n"
     ]
    }
   ],
   "source": [
    "x={\n",
    "    'id':'x91290',\n",
    "    'type':'Mobile phone',\n",
    "    'price':12858,\n",
    "    'quantity':1000,\n",
    "    'date':'12-12-23',\n",
    "    'is_available':0,\n",
    "    'is_delivered':1,\n",
    "    'is_new':0\n",
    "\n",
    "}\n",
    "print(x)"
   ]
  },
  {
   "cell_type": "code",
   "execution_count": 8,
   "metadata": {},
   "outputs": [
    {
     "data": {
      "text/plain": [
       "1000"
      ]
     },
     "execution_count": 8,
     "metadata": {},
     "output_type": "execute_result"
    }
   ],
   "source": [
    "x.get('quantity',0)"
   ]
  },
  {
   "cell_type": "code",
   "execution_count": 11,
   "metadata": {},
   "outputs": [
    {
     "data": {
      "text/plain": [
       "'x91290'"
      ]
     },
     "execution_count": 11,
     "metadata": {},
     "output_type": "execute_result"
    }
   ],
   "source": [
    "x.get('id','not found')\n"
   ]
  },
  {
   "cell_type": "code",
   "execution_count": 13,
   "metadata": {},
   "outputs": [
    {
     "data": {
      "text/plain": [
       "dict_keys(['id', 'type', 'price', 'quantity', 'date', 'is_available', 'is_delivered', 'is_new'])"
      ]
     },
     "execution_count": 13,
     "metadata": {},
     "output_type": "execute_result"
    }
   ],
   "source": [
    "x.keys()"
   ]
  },
  {
   "cell_type": "code",
   "execution_count": 15,
   "metadata": {},
   "outputs": [
    {
     "name": "stdout",
     "output_type": "stream",
     "text": [
      "{1: 'a', 2: 'b', 3: 'c', 4: 'd', 5: 'e'}\n"
     ]
    }
   ],
   "source": [
    "x=[1,2,3,4,5]\n",
    "names=['a','b','c','d','e']\n",
    "info={}\n",
    "for i,j in zip(x,names):\n",
    "    info[i]=j\n",
    "print(info)"
   ]
  },
  {
   "cell_type": "code",
   "execution_count": 22,
   "metadata": {},
   "outputs": [
    {
     "name": "stdout",
     "output_type": "stream",
     "text": [
      "['a', 'b', 'c', 'd', 'e']\n",
      "{'Gauri': 600,\n",
      " 'Anushka': 900,\n",
      " 'Vartika': 680,\n",
      " 'Diksha': 980,\n",
      " 'Faas': 788}\n"
     ]
    }
   ],
   "source": [
    "from pprint import pp\n",
    "pp(names)\n",
    "budget={}\n",
    "for i in range(5):\n",
    "    name=input('Enter Name: ')\n",
    "    amount=int(input('Enter amount: '))\n",
    "    budget[name]=amount\n",
    "pp(budget, width=1)"
   ]
  },
  {
   "cell_type": "code",
   "execution_count": 23,
   "metadata": {},
   "outputs": [
    {
     "data": {
      "text/plain": [
       "dict_items([('Gauri', 600), ('Anushka', 900), ('Vartika', 680), ('Diksha', 980), ('Faas', 788)])"
      ]
     },
     "execution_count": 23,
     "metadata": {},
     "output_type": "execute_result"
    }
   ],
   "source": [
    "budget.items()"
   ]
  },
  {
   "cell_type": "code",
   "execution_count": 25,
   "metadata": {},
   "outputs": [
    {
     "name": "stdout",
     "output_type": "stream",
     "text": [
      "total_amount=3948\n"
     ]
    }
   ],
   "source": [
    "total_amount=0\n",
    "for k,v in budget.items():\n",
    "    total_amount+=v\n",
    "print(f'{total_amount=}')\n"
   ]
  },
  {
   "cell_type": "code",
   "execution_count": 27,
   "metadata": {},
   "outputs": [
    {
     "data": {
      "text/plain": [
       "980"
      ]
     },
     "execution_count": 27,
     "metadata": {},
     "output_type": "execute_result"
    }
   ],
   "source": [
    "budget.pop('Diksha')"
   ]
  }
 ],
 "metadata": {
  "kernelspec": {
   "display_name": "Python 3.9.12 ('base')",
   "language": "python",
   "name": "python3"
  },
  "language_info": {
   "codemirror_mode": {
    "name": "ipython",
    "version": 3
   },
   "file_extension": ".py",
   "mimetype": "text/x-python",
   "name": "python",
   "nbconvert_exporter": "python",
   "pygments_lexer": "ipython3",
   "version": "3.9.12"
  },
  "orig_nbformat": 4,
  "vscode": {
   "interpreter": {
    "hash": "79d71d161e7943240a345005223b4b57f09b9732a24e4917a9c0467b3aef16ea"
   }
  }
 },
 "nbformat": 4,
 "nbformat_minor": 2
}
