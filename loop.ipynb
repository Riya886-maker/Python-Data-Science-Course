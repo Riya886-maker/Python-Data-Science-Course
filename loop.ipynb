{
 "cells": [
  {
   "cell_type": "code",
   "execution_count": 2,
   "metadata": {},
   "outputs": [],
   "source": [
    "from turtle import*\n",
    "\n",
    "speed('slow')\n",
    "forward(200)\n",
    "left(90)\n",
    "forward(200)\n",
    "left(90)\n",
    "forward(200)\n",
    "left(90)\n",
    "forward(200)\n",
    "left(90)\n"
   ]
  },
  {
   "cell_type": "code",
   "execution_count": 3,
   "metadata": {},
   "outputs": [],
   "source": [
    "from turtle import*\n",
    "\n",
    "speed('slow')\n",
    "forward(100)\n",
    "left(360/10)\n",
    "forward(100)\n",
    "left(360/10)\n",
    "forward(100)\n",
    "left(360/10)\n",
    "forward(100)\n",
    "left(360/10)\n",
    "forward(100)\n",
    "left(360/10)\n",
    "forward(100)\n",
    "left(360/10)\n",
    "forward(100)\n",
    "left(360/10)\n",
    "forward(100)\n",
    "left(360/10)\n",
    "\n",
    "mainloop()"
   ]
  },
  {
   "cell_type": "code",
   "execution_count": null,
   "metadata": {},
   "outputs": [],
   "source": []
  }
 ],
 "metadata": {
  "kernelspec": {
   "display_name": "Python 3.9.12 ('base')",
   "language": "python",
   "name": "python3"
  },
  "language_info": {
   "codemirror_mode": {
    "name": "ipython",
    "version": 3
   },
   "file_extension": ".py",
   "mimetype": "text/x-python",
   "name": "python",
   "nbconvert_exporter": "python",
   "pygments_lexer": "ipython3",
   "version": "3.9.12"
  },
  "orig_nbformat": 4,
  "vscode": {
   "interpreter": {
    "hash": "79d71d161e7943240a345005223b4b57f09b9732a24e4917a9c0467b3aef16ea"
   }
  }
 },
 "nbformat": 4,
 "nbformat_minor": 2
}
