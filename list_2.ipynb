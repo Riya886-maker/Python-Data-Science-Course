{
 "cells": [
  {
   "cell_type": "code",
   "execution_count": 2,
   "metadata": {},
   "outputs": [
    {
     "name": "stdout",
     "output_type": "stream",
     "text": [
      "[33, 30, 34, 56, 72, 9, 88, 10, 56, 82, 68, 44, 94, 33, 27, 61, 40, 97, 7, 19, 97, 97, 64, 2, 93]\n"
     ]
    }
   ],
   "source": [
    "from random import randint\n",
    "x=[]\n",
    "for i in range(25):\n",
    "    x.append(randint(1,100))\n",
    "print(x)"
   ]
  },
  {
   "cell_type": "code",
   "execution_count": 9,
   "metadata": {},
   "outputs": [],
   "source": [
    "val=86\n",
    "if val in x:\n",
    "    x.remove(val)"
   ]
  },
  {
   "cell_type": "code",
   "execution_count": 14,
   "metadata": {},
   "outputs": [
    {
     "data": {
      "text/plain": [
       "6"
      ]
     },
     "execution_count": 14,
     "metadata": {},
     "output_type": "execute_result"
    }
   ],
   "source": [
    "x.index(88)"
   ]
  },
  {
   "cell_type": "code",
   "execution_count": 21,
   "metadata": {},
   "outputs": [
    {
     "data": {
      "text/plain": [
       "19"
      ]
     },
     "execution_count": 21,
     "metadata": {},
     "output_type": "execute_result"
    }
   ],
   "source": [
    "x.pop()"
   ]
  },
  {
   "cell_type": "code",
   "execution_count": 23,
   "metadata": {},
   "outputs": [
    {
     "name": "stdout",
     "output_type": "stream",
     "text": [
      "[7, 9, 10, 27, 30, 33, 33, 34, 40, 56, 56, 61, 68, 72, 82, 88, 94, 97]\n"
     ]
    }
   ],
   "source": [
    "x.sort()\n",
    "print(x)"
   ]
  },
  {
   "cell_type": "code",
   "execution_count": 25,
   "metadata": {},
   "outputs": [
    {
     "name": "stdout",
     "output_type": "stream",
     "text": [
      "[97, 94, 88, 82, 72, 68, 61, 56, 56, 40, 34, 33, 33, 30, 27, 10, 9, 7]\n"
     ]
    }
   ],
   "source": [
    "x.sort(reverse=True)\n",
    "print(x)"
   ]
  },
  {
   "cell_type": "code",
   "execution_count": 27,
   "metadata": {},
   "outputs": [
    {
     "name": "stdout",
     "output_type": "stream",
     "text": [
      "[1, 2, 4, 5, 15]\n",
      "[1, 2, 4, 5, 15]\n",
      "[1, 2, 3, 4, 5, 10]\n",
      "True\n",
      "False\n",
      "False\n"
     ]
    }
   ],
   "source": [
    "x=[1,2,3,4,5]\n",
    "y=x\n",
    "z=x.copy()\n",
    "y.append(15)\n",
    "x.remove(3)\n",
    "z.append(10)\n",
    "print(x)\n",
    "print(y)\n",
    "print(z)\n",
    "print(x is y)\n",
    "print(x is z)\n",
    "print(y is z)"
   ]
  },
  {
   "cell_type": "code",
   "execution_count": 29,
   "metadata": {},
   "outputs": [
    {
     "name": "stdout",
     "output_type": "stream",
     "text": [
      "[28, 59, 91, 52, 59, 45, 23, 100, 56, 10, 9, 98, 70, 72, 88, 30, 16, 80, 19, 66, 15, 79, 16, 56, 12, 36, 4, 48, 41, 49, 88, 23, 92, 49, 42, 91, 71, 35, 96, 47, 12, 27, 42, 67, 10, 74, 23, 71, 16, 68, 96, 100, 64, 92, 61, 33, 20, 13, 92, 12, 58, 39, 57, 23, 76, 89, 90, 77, 100, 36, 100, 58, 77, 43, 33, 87, 8, 18, 62, 3, 8, 8, 51, 93, 2, 6, 76, 8, 16, 82, 48, 24, 4, 16, 31, 52, 97, 48, 94, 3]\n"
     ]
    }
   ],
   "source": [
    "x=[]\n",
    "for _ in range(100):\n",
    "    x.append(randint(1,100))\n",
    "print(x)"
   ]
  },
  {
   "cell_type": "code",
   "execution_count": 34,
   "metadata": {},
   "outputs": [
    {
     "name": "stdout",
     "output_type": "stream",
     "text": [
      "[16, 23, 56, 29, 54, 64, 25, 99, 59, 81, 72, 57, 26, 68, 93, 59, 8, 62, 23, 35, 99, 72, 77, 22, 8, 72, 24, 58, 38, 78, 60, 71, 59, 26, 42, 91, 42, 80, 81, 99, 8, 18, 28, 95, 46, 78, 9, 45, 25, 82, 16, 81, 81, 14, 20, 17, 30, 28, 69, 70, 25, 33, 99, 40, 39, 51, 56, 88, 27, 27, 76, 12, 87, 91, 23, 52, 32, 47, 59, 36, 99, 40, 24, 82, 6, 80, 38, 37, 13, 41, 30, 97, 1, 10, 17, 27, 76, 21, 1, 6]\n"
     ]
    }
   ],
   "source": [
    "x=[]\n",
    "for i in range(100):\n",
    "    x.append(randint(1,100))\n",
    "print(x)"
   ]
  },
  {
   "cell_type": "code",
   "execution_count": 40,
   "metadata": {},
   "outputs": [
    {
     "name": "stdout",
     "output_type": "stream",
     "text": [
      "435\n"
     ]
    }
   ],
   "source": [
    "sub25=[i for i in x if i<=25]\n",
    "print(sum(sub25))"
   ]
  },
  {
   "cell_type": "code",
   "execution_count": 42,
   "metadata": {},
   "outputs": [
    {
     "name": "stdout",
     "output_type": "stream",
     "text": [
      "[1, 1, 6, 6, 8, 8, 8, 9, 10, 12, 13, 14, 16, 16, 17, 17, 18, 20, 21, 22, 23, 23, 23, 24, 24, 25, 25, 25, 26, 26, 27, 27, 27, 28, 28, 29, 30, 30, 32, 33, 35, 36, 37, 38, 38, 39, 40, 40, 41, 42, 42, 45, 46, 47, 51, 52, 54, 56, 56, 57, 58, 59, 59, 59, 59, 60, 62, 64, 68, 69, 70, 71, 72, 72, 72, 76, 76, 77, 78, 78, 80, 80, 81, 81, 81, 81, 82, 82, 87, 88, 91, 91, 93, 95, 97, 99, 99, 99, 99, 99]\n"
     ]
    }
   ],
   "source": [
    "x.sort()\n",
    "print(x)"
   ]
  },
  {
   "cell_type": "code",
   "execution_count": 50,
   "metadata": {},
   "outputs": [
    {
     "name": "stdout",
     "output_type": "stream",
     "text": [
      "[11, 23, 45, 65, 12.56, 67, 23, 65]\n",
      "[11, 23, 45, 65, 12.56, 67, 23, 65]\n"
     ]
    }
   ],
   "source": [
    "y=[11,23,45,65,12.56,67,23,65]\n",
    "yodd=[]\n",
    "for i in y:\n",
    "    if i%2 != 0:\n",
    "        yodd.append(i)\n",
    "print(y)\n",
    "print(yodd)\n",
    "        \n"
   ]
  },
  {
   "cell_type": "code",
   "execution_count": 56,
   "metadata": {},
   "outputs": [
    {
     "name": "stdout",
     "output_type": "stream",
     "text": [
      "[1, 1, 6, 6, 8, 8, 8, 9, 10, 12, 13, 14, 16, 16, 17, 17, 18, 20, 21, 22, 23, 23, 23, 24, 24, 25, 25, 25, 26, 26, 27, 27, 27, 28, 28, 29, 30, 30, 32, 33, 35, 36, 37, 38, 38, 39, 40, 40, 41, 42, 42, 45, 46, 47, 51, 52, 54, 56, 56, 57, 58, 59, 59, 59, 59, 60, 62, 64, 68, 69, 70, 71, 72, 72, 72, 76, 76, 77, 78, 78, 80, 80, 81, 81, 81, 81, 82, 82, 87, 88, 91, 91, 93, 95, 97, 99, 99, 99, 99, 99]\n",
      "[1, 1, 216, 216, 512, 512, 512, 729, 1000, 1728, 2197, 2744, 4096, 4096, 4913, 4913, 5832, 8000, 9261, 10648, 12167, 12167, 12167, 13824, 13824, 15625, 15625, 15625, 17576, 17576, 19683, 19683, 19683, 21952, 21952, 24389, 27000, 27000, 32768, 35937, 42875, 46656, 50653, 54872, 54872, 59319, 64000, 64000, 68921, 74088, 74088, 91125, 97336, 103823, 132651, 140608, 157464, 175616, 175616, 185193, 195112, 205379, 205379, 205379, 205379, 216000, 238328, 262144, 314432, 328509, 343000, 357911, 373248, 373248, 373248, 438976, 438976, 456533, 474552, 474552, 512000, 512000, 531441, 531441, 531441, 531441, 551368, 551368, 658503, 681472, 753571, 753571, 804357, 857375, 912673, 970299, 970299, 970299, 970299, 970299]\n"
     ]
    }
   ],
   "source": [
    "xcubes = [i**3 for i in x]\n",
    "print(x)\n",
    "print(xcubes)\n"
   ]
  },
  {
   "cell_type": "code",
   "execution_count": 62,
   "metadata": {},
   "outputs": [
    {
     "name": "stdout",
     "output_type": "stream",
     "text": [
      "[1, 1, 6, 6, 8, 8, 8, 9, 10, 12, 13, 14, 16, 16, 17, 17, 18, 20, 21, 22, 23, 23, 23, 24, 24, 25, 25, 25, 26, 26, 27, 27, 27, 28, 28, 29, 30, 30, 32, 33, 35, 36, 37, 38, 38, 39, 40, 40, 41, 42, 42, 45, 46, 47, 51, 52, 54, 56, 56, 57, 58, 59, 59, 59, 59, 60, 62, 64, 68, 69, 70, 71, 72, 72, 72, 76, 76, 77, 78, 78, 80, 80, 81, 81, 81, 81, 82, 82, 87, 88, 91, 91, 93, 95, 97, 99, 99, 99, 99, 99]\n",
      "[36, 36, 64, 64, 64, 100, 144, 196, 256, 256, 324, 400, 484, 576, 576, 676, 676, 784, 784, 900, 900, 1024, 1296, 1444, 1444, 1600, 1600, 1764, 1764, 2116, 2704, 2916, 3136, 3136, 3364, 3600, 3844, 4096, 4624, 4900, 5184, 5184, 5184, 5776, 5776, 6084, 6084, 6400, 6400, 6724, 6724, 7744]\n"
     ]
    }
   ],
   "source": [
    "xsqreven=[]\n",
    "for i in x:\n",
    "    if i%2==0:\n",
    "        xsqreven.append(i**2)\n",
    "print(x)\n",
    "print(xsqreven)\n"
   ]
  },
  {
   "cell_type": "code",
   "execution_count": 70,
   "metadata": {},
   "outputs": [
    {
     "name": "stdout",
     "output_type": "stream",
     "text": [
      "Sum of all elements in a given list: 74\n"
     ]
    }
   ],
   "source": [
    "a=[11,5,17,18,23,78]\n",
    "total=0\n",
    "for i in range(0,len(a)):\n",
    "        total= total+a[i]\n",
    "print(\"Sum of all elements in a given list:\",total)"
   ]
  },
  {
   "cell_type": "code",
   "execution_count": 72,
   "metadata": {},
   "outputs": [
    {
     "name": "stdout",
     "output_type": "stream",
     "text": [
      "Largest number is: 23\n"
     ]
    }
   ],
   "source": [
    "print(\"Largest number is:\",max(a))\n"
   ]
  },
  {
   "cell_type": "code",
   "execution_count": 74,
   "metadata": {},
   "outputs": [
    {
     "name": "stdout",
     "output_type": "stream",
     "text": [
      "Smallest number is: 5\n"
     ]
    }
   ],
   "source": [
    "print(\"Smallest number is:\",min(a))"
   ]
  },
  {
   "cell_type": "code",
   "execution_count": 79,
   "metadata": {},
   "outputs": [
    {
     "name": "stdout",
     "output_type": "stream",
     "text": [
      "Second Largest number is: 23\n"
     ]
    }
   ],
   "source": [
    "print(\"Second Largest number is:\",max(a))\n"
   ]
  },
  {
   "cell_type": "code",
   "execution_count": 88,
   "metadata": {},
   "outputs": [
    {
     "name": "stdout",
     "output_type": "stream",
     "text": [
      "Second Largest number is: 78\n"
     ]
    }
   ],
   "source": [
    "a=[11,23,32,45,56,65,78,98]\n",
    "a.sort()\n",
    "print(\"Second Largest number is:\",a[-2])\n"
   ]
  }
 ],
 "metadata": {
  "kernelspec": {
   "display_name": "Python 3.9.12 ('base')",
   "language": "python",
   "name": "python3"
  },
  "language_info": {
   "codemirror_mode": {
    "name": "ipython",
    "version": 3
   },
   "file_extension": ".py",
   "mimetype": "text/x-python",
   "name": "python",
   "nbconvert_exporter": "python",
   "pygments_lexer": "ipython3",
   "version": "3.9.12"
  },
  "orig_nbformat": 4,
  "vscode": {
   "interpreter": {
    "hash": "79d71d161e7943240a345005223b4b57f09b9732a24e4917a9c0467b3aef16ea"
   }
  }
 },
 "nbformat": 4,
 "nbformat_minor": 2
}
