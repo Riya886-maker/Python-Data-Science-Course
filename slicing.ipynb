{
 "cells": [
  {
   "cell_type": "code",
   "execution_count": 4,
   "metadata": {},
   "outputs": [
    {
     "name": "stdout",
     "output_type": "stream",
     "text": [
      "peare\n"
     ]
    }
   ],
   "source": [
    "name = \"William Shakespeare\"\n",
    "print(name[14:19])"
   ]
  },
  {
   "cell_type": "code",
   "execution_count": 6,
   "metadata": {},
   "outputs": [
    {
     "name": "stdout",
     "output_type": "stream",
     "text": [
      "William\n"
     ]
    }
   ],
   "source": [
    "name = \"William Shakespeare\"\n",
    "print(name[:7])"
   ]
  },
  {
   "cell_type": "code",
   "execution_count": 8,
   "metadata": {},
   "outputs": [
    {
     "name": "stdout",
     "output_type": "stream",
     "text": [
      "1000000.00\n"
     ]
    }
   ],
   "source": [
    "amount = \"$1000000.00\"\n",
    "amount = amount [1:]\n",
    "print(amount)"
   ]
  },
  {
   "cell_type": "code",
   "execution_count": 1,
   "metadata": {},
   "outputs": [],
   "source": [
    "name = \"Dr. RIYA SRIVASTAVA\"\n",
    "fname=name[4:10]\n",
    "lname=name[-6]"
   ]
  },
  {
   "cell_type": "code",
   "execution_count": 3,
   "metadata": {},
   "outputs": [
    {
     "data": {
      "text/plain": [
       "'TOMATO IS A FRUIT'"
      ]
     },
     "execution_count": 3,
     "metadata": {},
     "output_type": "execute_result"
    }
   ],
   "source": [
    "word= \"Tomato is a fruit\"\n",
    "word.upper()"
   ]
  },
  {
   "cell_type": "code",
   "execution_count": 5,
   "metadata": {},
   "outputs": [
    {
     "name": "stdout",
     "output_type": "stream",
     "text": [
      "Tomato is a fruit\n",
      "tomato is a fruit\n",
      "tomato is a fruit\n",
      "Tomato Is A Fruit\n",
      "Tomato is a fruit\n",
      "tOMATO IS A FRUIT\n",
      "tomato is a fruit\n",
      "<built-in method swapcase of str object at 0x00000244D65029F0>\n"
     ]
    }
   ],
   "source": [
    "print(word)\n",
    "print(word.lower())\n",
    "print(word.lower())\n",
    "print(word.title())\n",
    "print(word.capitalize())\n",
    "print(word.swapcase())\n",
    "print(word.casefold())\n",
    "print(\"HeLLo\".swapcase)\n"
   ]
  },
  {
   "cell_type": "code",
   "execution_count": 7,
   "metadata": {},
   "outputs": [
    {
     "data": {
      "text/plain": [
       "-1"
      ]
     },
     "execution_count": 7,
     "metadata": {},
     "output_type": "execute_result"
    }
   ],
   "source": [
    "word.find('IS')"
   ]
  },
  {
   "cell_type": "code",
   "execution_count": 10,
   "metadata": {},
   "outputs": [
    {
     "name": "stdout",
     "output_type": "stream",
     "text": [
      "very important meeting\n"
     ]
    }
   ],
   "source": [
    "word = \"We are having a very important meeting\"\n",
    "v_idx = word.find('very')\n",
    "print( word[v_idx:] )"
   ]
  },
  {
   "cell_type": "code",
   "execution_count": 12,
   "metadata": {},
   "outputs": [
    {
     "data": {
      "text/plain": [
       "'We ore hoving o very importont meeting'"
      ]
     },
     "execution_count": 12,
     "metadata": {},
     "output_type": "execute_result"
    }
   ],
   "source": [
    "word.replace(\"a\",\"o\")"
   ]
  },
  {
   "cell_type": "code",
   "execution_count": 15,
   "metadata": {},
   "outputs": [
    {
     "name": "stdout",
     "output_type": "stream",
     "text": [
      "We are having a very boring meeting\n"
     ]
    }
   ],
   "source": [
    "word = word.replace('important','boring')\n",
    "print(word)\n"
   ]
  },
  {
   "cell_type": "code",
   "execution_count": 17,
   "metadata": {},
   "outputs": [
    {
     "name": "stdout",
     "output_type": "stream",
     "text": [
      " c c a abc\n"
     ]
    }
   ],
   "source": [
    "data = ' a b a b a abc'\n",
    "data= data.replace(\"a b\", 'c', 2)\n",
    "print(data)"
   ]
  },
  {
   "cell_type": "code",
   "execution_count": 22,
   "metadata": {},
   "outputs": [
    {
     "name": "stdout",
     "output_type": "stream",
     "text": [
      "10000\n"
     ]
    }
   ],
   "source": [
    "x= '10000'\n",
    "if x.isnumeric():\n",
    "    x= int(x)\n",
    "    print(x)\n",
    "else:\n",
    "    print('Invalid Input')"
   ]
  },
  {
   "cell_type": "code",
   "execution_count": 26,
   "metadata": {},
   "outputs": [
    {
     "name": "stdout",
     "output_type": "stream",
     "text": [
      "valid\n"
     ]
    }
   ],
   "source": [
    "fnm = \"RIya\"\n",
    "if fnm.isalpha():\n",
    "    print('valid')\n",
    "else:\n",
    "    print('Invalid')"
   ]
  },
  {
   "cell_type": "code",
   "execution_count": 28,
   "metadata": {},
   "outputs": [
    {
     "name": "stdout",
     "output_type": "stream",
     "text": [
      "you are a doctor\n"
     ]
    }
   ],
   "source": [
    "name = \"Dr. Vikram Prasad\"\n",
    "if name.startswith(\"Dr\"):\n",
    "    print(\"you are a doctor\")\n",
    "elif name.startswith(\"Mr\"):\n",
    "    print(\"you are a gentleman\")\n",
    "else:\n",
    "    print(\"who are you\")"
   ]
  }
 ],
 "metadata": {
  "kernelspec": {
   "display_name": "Python 3.9.12 ('base')",
   "language": "python",
   "name": "python3"
  },
  "language_info": {
   "codemirror_mode": {
    "name": "ipython",
    "version": 3
   },
   "file_extension": ".py",
   "mimetype": "text/x-python",
   "name": "python",
   "nbconvert_exporter": "python",
   "pygments_lexer": "ipython3",
   "version": "3.9.12"
  },
  "orig_nbformat": 4,
  "vscode": {
   "interpreter": {
    "hash": "79d71d161e7943240a345005223b4b57f09b9732a24e4917a9c0467b3aef16ea"
   }
  }
 },
 "nbformat": 4,
 "nbformat_minor": 2
}
