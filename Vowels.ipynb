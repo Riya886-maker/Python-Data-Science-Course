a=input("Enter the string:")
vowels=0
for i in range(0,len(a)):
    if(a[i]=="a" or a[i]=="A" or a[i]=="e" or a[i]=="E"or a[i]=="i" or a[i]=="I" or a[i]=="o" or a[i]=="O" or a[i]=="u" or a[i]=="U"):
        vowels=vowels+1
        print("Total Vowels=",vowels)
    