{
 "cells": [
  {
   "cell_type": "code",
   "execution_count": 4,
   "metadata": {},
   "outputs": [
    {
     "name": "stdout",
     "output_type": "stream",
     "text": [
      "[] []\n",
      "<class 'list'> <class 'list'>\n"
     ]
    }
   ],
   "source": [
    "x=[] \n",
    "y=list()\n",
    "print(x, y)\n",
    "print(type (x), type(y))"
   ]
  },
  {
   "cell_type": "code",
   "execution_count": 6,
   "metadata": {},
   "outputs": [
    {
     "name": "stdout",
     "output_type": "stream",
     "text": [
      "['Apple', 100, 'Banana', 40, 'Orange', 50]\n"
     ]
    }
   ],
   "source": [
    "mixed=['Apple',100, 'Banana',40,'Orange',50]\n",
    "print(mixed)"
   ]
  },
  {
   "cell_type": "code",
   "execution_count": 8,
   "metadata": {},
   "outputs": [
    {
     "name": "stdout",
     "output_type": "stream",
     "text": [
      "[1, 1, 1, 1, 1, 1, 1, 1, 1, 1]\n"
     ]
    }
   ],
   "source": [
    "ones=[1]*10\n",
    "print(ones)"
   ]
  },
  {
   "cell_type": "code",
   "execution_count": 10,
   "metadata": {},
   "outputs": [
    {
     "name": "stdout",
     "output_type": "stream",
     "text": [
      "['H', 'o', 'm', 'o', 's', 'a', 'p', 'i', 'e', 'n', 's']\n"
     ]
    }
   ],
   "source": [
    "word='Homosapiens'\n",
    "chrs=list(word)\n",
    "print(chrs)"
   ]
  },
  {
   "cell_type": "code",
   "execution_count": 13,
   "metadata": {},
   "outputs": [
    {
     "name": "stdout",
     "output_type": "stream",
     "text": [
      "['Apple', 100, 'Banana', 40, 'Orange', 50]\n",
      "['Apple', 100, 'Banana', 40, 'Orange', 50]\n",
      "['Apple', 100, 'Banana', 40, 'Orange', 50]\n",
      "['Apple', 100, 'Banana', 40, 'Orange', 50]\n",
      "['Apple', 100, 'Banana', 40, 'Orange', 50]\n",
      "['Apple', 100, 'Banana', 40, 'Orange', 50]\n"
     ]
    }
   ],
   "source": [
    "for any in mixed:\n",
    "    print(mixed)"
   ]
  },
  {
   "cell_type": "code",
   "execution_count": 15,
   "metadata": {},
   "outputs": [],
   "source": [
    "books=['Book 1','Book 2','Book 3']\n",
    "books[0]='Steelheart'"
   ]
  },
  {
   "cell_type": "code",
   "execution_count": 17,
   "metadata": {},
   "outputs": [
    {
     "data": {
      "text/plain": [
       "['Steelheart', 'Book 2', 'Book 3']"
      ]
     },
     "execution_count": 17,
     "metadata": {},
     "output_type": "execute_result"
    }
   ],
   "source": [
    "books"
   ]
  },
  {
   "cell_type": "code",
   "execution_count": 19,
   "metadata": {},
   "outputs": [
    {
     "name": "stdout",
     "output_type": "stream",
     "text": [
      "['Steelheart', 'Book 2', 'Book 3', 'The Hero of Ages', 'The Hero of Ages']\n"
     ]
    }
   ],
   "source": [
    "books.append(\"The Hero of Ages\")\n",
    "print(books)"
   ]
  },
  {
   "cell_type": "code",
   "execution_count": 21,
   "metadata": {},
   "outputs": [
    {
     "name": "stdout",
     "output_type": "stream",
     "text": [
      "['Steelheart', 'Book 2', 'Book 3']\n"
     ]
    }
   ],
   "source": [
    "books.remove(\"The Hero of Ages\")\n",
    "print(books)\n",
    "             "
   ]
  },
  {
   "cell_type": "code",
   "execution_count": 23,
   "metadata": {},
   "outputs": [
    {
     "name": "stdout",
     "output_type": "stream",
     "text": [
      "['Krrish, Race, Chhapak,Dangal,Hichki,Avengers,Ram_Setu,Hum_Tum,Raees', 'Krrish_3']\n"
     ]
    }
   ],
   "source": [
    "movies=[\"Krrish, Race, Chhapak,Dangal,Hichki,Avengers,Ram_Setu,Hum_Tum,Raees\"]\n",
    "movies.append(\"Krrish_3\")\n",
    "print(movies)"
   ]
  },
  {
   "cell_type": "code",
   "execution_count": 25,
   "metadata": {},
   "outputs": [
    {
     "data": {
      "text/plain": [
       "list"
      ]
     },
     "execution_count": 25,
     "metadata": {},
     "output_type": "execute_result"
    }
   ],
   "source": [
    "type(movies)"
   ]
  },
  {
   "cell_type": "code",
   "execution_count": 28,
   "metadata": {},
   "outputs": [
    {
     "data": {
      "text/plain": [
       "['Krrish, Race, Chhapak,Dangal,Hichki,Avengers,Ram_Setu,Hum_Tum,Raees',\n",
       " 'Krrish_3']"
      ]
     },
     "execution_count": 28,
     "metadata": {},
     "output_type": "execute_result"
    }
   ],
   "source": [
    "movies[:7]"
   ]
  },
  {
   "cell_type": "code",
   "execution_count": 29,
   "metadata": {},
   "outputs": [
    {
     "name": "stdout",
     "output_type": "stream",
     "text": [
      "['BOOK 5']\n",
      "['BOOK 5', 'BOOK6']\n",
      "['BOOK 5', 'BOOK6', '']\n",
      "['BOOK 5', 'BOOK6', '', '']\n",
      "['BOOK 5', 'BOOK6', '', '', 'Book 8']\n"
     ]
    }
   ],
   "source": [
    "books=[]\n",
    "for i in range(5):\n",
    "    books.append(input())\n",
    "    print(books)"
   ]
  },
  {
   "cell_type": "code",
   "execution_count": 39,
   "metadata": {},
   "outputs": [
    {
     "data": {
      "text/plain": [
       "['Krrish, Race, Chhapak,Dangal,Hichki,Avengers,Ram_Setu,Hum_Tum,Raees']"
      ]
     },
     "execution_count": 39,
     "metadata": {},
     "output_type": "execute_result"
    }
   ],
   "source": [
    "movies[::2]\n"
   ]
  },
  {
   "cell_type": "code",
   "execution_count": 42,
   "metadata": {},
   "outputs": [
    {
     "name": "stdout",
     "output_type": "stream",
     "text": [
      "[1, 2, 3]\n"
     ]
    }
   ],
   "source": [
    "x=[1,2]\n",
    "x.append(3)\n",
    "print(x)"
   ]
  },
  {
   "cell_type": "code",
   "execution_count": 47,
   "metadata": {},
   "outputs": [
    {
     "name": "stdout",
     "output_type": "stream",
     "text": [
      "[1, 2, 3, 100, 100, 100]\n"
     ]
    }
   ],
   "source": [
    "x.insert(3,100)\n",
    "print(x)"
   ]
  },
  {
   "cell_type": "code",
   "execution_count": null,
   "metadata": {},
   "outputs": [],
   "source": []
  }
 ],
 "metadata": {
  "kernelspec": {
   "display_name": "Python 3.9.12 ('base')",
   "language": "python",
   "name": "python3"
  },
  "language_info": {
   "codemirror_mode": {
    "name": "ipython",
    "version": 3
   },
   "file_extension": ".py",
   "mimetype": "text/x-python",
   "name": "python",
   "nbconvert_exporter": "python",
   "pygments_lexer": "ipython3",
   "version": "3.9.12"
  },
  "orig_nbformat": 4,
  "vscode": {
   "interpreter": {
    "hash": "79d71d161e7943240a345005223b4b57f09b9732a24e4917a9c0467b3aef16ea"
   }
  }
 },
 "nbformat": 4,
 "nbformat_minor": 2
}
