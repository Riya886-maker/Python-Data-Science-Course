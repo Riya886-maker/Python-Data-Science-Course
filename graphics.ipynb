{
 "cells": [
  {
   "cell_type": "code",
   "execution_count": 2,
   "metadata": {},
   "outputs": [
    {
     "ename": "ModuleNotFoundError",
     "evalue": "No module named 'sketchpy'",
     "output_type": "error",
     "traceback": [
      "\u001b[1;31m---------------------------------------------------------------------------\u001b[0m",
      "\u001b[1;31mModuleNotFoundError\u001b[0m                       Traceback (most recent call last)",
      "Cell \u001b[1;32mIn[2], line 1\u001b[0m\n\u001b[1;32m----> 1\u001b[0m \u001b[38;5;28;01mfrom\u001b[39;00m \u001b[38;5;21;01msketchpy\u001b[39;00m \u001b[38;5;28;01mimport\u001b[39;00m library \u001b[38;5;28;01mas\u001b[39;00m lib\n\u001b[0;32m      2\u001b[0m obj\u001b[38;5;241m=\u001b[39mlib\u001b[38;5;241m.\u001b[39mbts\n\u001b[0;32m      4\u001b[0m obj\u001b[38;5;241m.\u001b[39mdraw\n",
      "\u001b[1;31mModuleNotFoundError\u001b[0m: No module named 'sketchpy'"
     ]
    }
   ],
   "source": [
    "from sketchpy import library as lib\n",
    "obj=lib.bts\n",
    "\n",
    "obj.draw\n"
   ]
  }
 ],
 "metadata": {
  "kernelspec": {
   "display_name": "Python 3.9.12 ('base')",
   "language": "python",
   "name": "python3"
  },
  "language_info": {
   "codemirror_mode": {
    "name": "ipython",
    "version": 3
   },
   "file_extension": ".py",
   "mimetype": "text/x-python",
   "name": "python",
   "nbconvert_exporter": "python",
   "pygments_lexer": "ipython3",
   "version": "3.9.12"
  },
  "orig_nbformat": 4,
  "vscode": {
   "interpreter": {
    "hash": "79d71d161e7943240a345005223b4b57f09b9732a24e4917a9c0467b3aef16ea"
   }
  }
 },
 "nbformat": 4,
 "nbformat_minor": 2
}
