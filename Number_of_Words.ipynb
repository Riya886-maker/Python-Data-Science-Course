{
 "cells": [
  {
   "cell_type": "code",
   "execution_count": 1,
   "metadata": {},
   "outputs": [
    {
     "name": "stdout",
     "output_type": "stream",
     "text": [
      "Total number of spaces  0\n",
      "Total number of words  1\n"
     ]
    }
   ],
   "source": [
    "a=input(\"Enter the number of string: \")\n",
    "spaces=0\n",
    "words=0\n",
    "for i in a:\n",
    "    if i=='':\n",
    "        spaces=spaces+1\n",
    "print(\"Total number of spaces \",spaces)\n",
    "print(\"Total number of words \",spaces+1)\n",
    "\n"
   ]
  },
  {
   "cell_type": "code",
   "execution_count": 3,
   "metadata": {},
   "outputs": [
    {
     "name": "stdout",
     "output_type": "stream",
     "text": [
      "R 1 times\n"
     ]
    }
   ],
   "source": [
    "data=input(\"Enter something:\")\n",
    "mx=''\n",
    "cnt=0\n",
    "for char in data:\n",
    "    count=data.count(char)\n",
    "    if count>cnt:\n",
    "        mx=char\n",
    "        cnt=count\n",
    "        print(f'{mx} {cnt} times')"
   ]
  },
  {
   "cell_type": "code",
   "execution_count": 5,
   "metadata": {},
   "outputs": [
    {
     "name": "stdout",
     "output_type": "stream",
     "text": [
      "hello &*\n",
      "hello &*\n",
      "hello &*\n",
      "hello &*\n",
      "hello &*\n",
      "hello &*\n",
      "hello *\n",
      "hello *\n",
      "hello *\n",
      "hello *\n",
      "hello \n",
      "hello \n",
      "hello \n",
      "hello \n",
      "hello \n",
      "hello \n",
      "hello \n",
      "hello \n",
      "hello \n",
      "hello \n",
      "hello \n",
      "hello \n",
      "hello \n",
      "hello \n",
      "hello \n",
      "hello \n",
      "hello \n",
      "hello \n",
      "hello \n",
      "hello \n",
      "hello \n",
      "hello \n",
      "hello \n"
     ]
    }
   ],
   "source": [
    "from string import punctuation\n",
    "data=input(\"enter something:\")\n",
    "print(data)\n",
    "for char in punctuation:\n",
    "    data=data.replace(char,'')\n",
    "    print(data)"
   ]
  }
 ],
 "metadata": {
  "kernelspec": {
   "display_name": "Python 3.9.12 ('base')",
   "language": "python",
   "name": "python3"
  },
  "language_info": {
   "codemirror_mode": {
    "name": "ipython",
    "version": 3
   },
   "file_extension": ".py",
   "mimetype": "text/x-python",
   "name": "python",
   "nbconvert_exporter": "python",
   "pygments_lexer": "ipython3",
   "version": "3.9.12"
  },
  "orig_nbformat": 4,
  "vscode": {
   "interpreter": {
    "hash": "79d71d161e7943240a345005223b4b57f09b9732a24e4917a9c0467b3aef16ea"
   }
  }
 },
 "nbformat": 4,
 "nbformat_minor": 2
}
